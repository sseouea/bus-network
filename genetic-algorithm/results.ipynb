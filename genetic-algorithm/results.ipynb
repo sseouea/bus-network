{
 "cells": [
  {
   "cell_type": "code",
   "execution_count": 3,
   "metadata": {},
   "outputs": [],
   "source": [
    "from genetic import Genetic\n",
    "from busData import BusRoute\n",
    "import csv\n",
    "import resultProcessing"
   ]
  },
  {
   "cell_type": "code",
   "execution_count": 2,
   "metadata": {},
   "outputs": [],
   "source": [
    "def loadNetwork(filePath='./data/routeData_parsed.csv'):\n",
    "    genetic = Genetic('./data/stopData_parsed.csv', './data/population.csv', [0], 1, 10, 2)\n",
    "    busNetwork = genetic.bestNetwork[0]\n",
    "\n",
    "    with open(filePath, encoding='utf-8') as f:\n",
    "        r = csv.reader(f)\n",
    "        busNetwork.busData.routeList = []\n",
    "        for i, line in enumerate(r):\n",
    "            if line[0] == 'id':\n",
    "                continue\n",
    "            # if i == 5:\n",
    "            _stopIdList = line[3].split('/')\n",
    "            stopIdList = [*_stopIdList, *reversed(_stopIdList[:-1])]\n",
    "            busNetwork.busData.routeList.append(BusRoute(line[0], line[1], line[2], stopIdList))\n",
    "    return busNetwork\n"
   ]
  },
  {
   "cell_type": "code",
   "execution_count": 4,
   "metadata": {},
   "outputs": [],
   "source": [
    "randomNetwork = loadNetwork('./Results/random/Random 40 - 0.013253068846434825.csv')\n",
    "resultProcessing.saveImg(resultProcessing.createNetworkX(randomNetwork), './Results/analyze/', 'Random Bus Network')"
   ]
  },
  {
   "cell_type": "code",
   "execution_count": null,
   "metadata": {},
   "outputs": [],
   "source": []
  }
 ],
 "metadata": {
  "kernelspec": {
   "display_name": "codes",
   "language": "python",
   "name": "python3"
  },
  "language_info": {
   "codemirror_mode": {
    "name": "ipython",
    "version": 3
   },
   "file_extension": ".py",
   "mimetype": "text/x-python",
   "name": "python",
   "nbconvert_exporter": "python",
   "pygments_lexer": "ipython3",
   "version": "3.10.2"
  }
 },
 "nbformat": 4,
 "nbformat_minor": 2
}
